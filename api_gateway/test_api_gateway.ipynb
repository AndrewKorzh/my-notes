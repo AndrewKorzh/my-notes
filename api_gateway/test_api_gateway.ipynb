{
 "cells": [
  {
   "cell_type": "code",
   "execution_count": 48,
   "metadata": {},
   "outputs": [],
   "source": [
    "import requests\n",
    "import datetime\n",
    "import jwt\n",
    "import json\n",
    "\n",
    "MICROSERVICE_SECRET_KEY = \"MICROSERVICE_SECRET_KEY\"\n",
    "ALGORITHM = \"HS256\"\n",
    "BASE_URL = \"http://127.0.0.1:5000\""
   ]
  },
  {
   "cell_type": "code",
   "execution_count": 49,
   "metadata": {},
   "outputs": [],
   "source": [
    "data = {\n",
    "    \"username\": \"andrew101\",\n",
    "    \"password\": \"12345678\"\n",
    "}"
   ]
  },
  {
   "cell_type": "code",
   "execution_count": null,
   "metadata": {},
   "outputs": [],
   "source": [
    "response = requests.post(f\"{BASE_URL}/authorization/register\", json=data)\n",
    "\n",
    "if response.status_code == 200:\n",
    "    print(\"Пользователь зарегистрировался успешно.\")\n",
    "    token = response.json()[\"access_token\"]\n",
    "    print(\"Токен:\", token)\n",
    "else:\n",
    "    print(\"Ошибка:\", response.status_code, response.text)\n",
    "    token = None"
   ]
  },
  {
   "cell_type": "code",
   "execution_count": null,
   "metadata": {},
   "outputs": [],
   "source": [
    "print(response.json())"
   ]
  },
  {
   "cell_type": "code",
   "execution_count": null,
   "metadata": {},
   "outputs": [],
   "source": [
    "# data[\"password\"] = \"errrrorrr\"\n",
    "response = requests.post(f\"{BASE_URL}/authorization/login\", json=data)\n",
    "\n",
    "if response.status_code == 200:\n",
    "    print(f\"Пользователь {data[\"username\"]} залогинился успешно.\")\n",
    "    token = response.json()[\"access_token\"]\n",
    "    print(\"Токен:\", token)\n",
    "else:\n",
    "    print(\"Ошибка:\", response.status_code, response.text)\n",
    "    token = None"
   ]
  },
  {
   "cell_type": "code",
   "execution_count": null,
   "metadata": {},
   "outputs": [],
   "source": [
    "# Protected\n",
    "response_all_notes = requests.get(f\"{BASE_URL}/notes/all_user_notes\", headers={\"authorization-client\": f\"Bearer {token}\"})\n",
    "ids = [n[\"id\"] for n in response_all_notes.json()[\"notes\"]]\n",
    "print(ids)\n",
    "\n",
    "print(json.dumps(response_all_notes.json(), indent=4, ensure_ascii=False))"
   ]
  },
  {
   "cell_type": "code",
   "execution_count": null,
   "metadata": {},
   "outputs": [],
   "source": [
    "text = \"gay\"\n",
    "response = requests.post(f\"{BASE_URL}/notes/add_note\", headers={\"authorization-client\": f\"Bearer {token}\"}, json={\"text\": text})\n",
    "print(response.json())"
   ]
  },
  {
   "cell_type": "code",
   "execution_count": null,
   "metadata": {},
   "outputs": [],
   "source": [
    "response = requests.post(f\"{BASE_URL}/notes/delete_user_notes\", headers={\"authorization-client\": f\"Bearer {token}\"}, json={\"note_ids\": ids})\n",
    "print(response.json())"
   ]
  }
 ],
 "metadata": {
  "kernelspec": {
   "display_name": "Python 3",
   "language": "python",
   "name": "python3"
  },
  "language_info": {
   "codemirror_mode": {
    "name": "ipython",
    "version": 3
   },
   "file_extension": ".py",
   "mimetype": "text/x-python",
   "name": "python",
   "nbconvert_exporter": "python",
   "pygments_lexer": "ipython3",
   "version": "3.13.1"
  }
 },
 "nbformat": 4,
 "nbformat_minor": 2
}
