{
 "cells": [
  {
   "cell_type": "code",
   "execution_count": 5,
   "metadata": {},
   "outputs": [],
   "source": [
    "import requests\n",
    "import datetime\n",
    "import jwt\n",
    "\n",
    "MICROSERVICE_SECRET_KEY = \"MICROSERVICE_SECRET_KEY\"\n",
    "ALGORITHM = \"HS256\"\n",
    "BASE_URL = \"http://127.0.0.1:8000\""
   ]
  },
  {
   "cell_type": "code",
   "execution_count": 6,
   "metadata": {},
   "outputs": [],
   "source": [
    "def create_microservice_access_token(data: dict, expires_delta: datetime.timedelta = None):\n",
    "    to_encode = data.copy()\n",
    "    if expires_delta:\n",
    "        expire = datetime.datetime.now(datetime.UTC) + expires_delta\n",
    "    else:\n",
    "        expire = datetime.datetime.now(datetime.UTC) + datetime.timedelta(minutes=15)\n",
    "    to_encode.update({\"exp\": expire})\n",
    "    encoded_jwt = jwt.encode(to_encode, MICROSERVICE_SECRET_KEY, algorithm=ALGORITHM)\n",
    "    return encoded_jwt"
   ]
  },
  {
   "cell_type": "code",
   "execution_count": null,
   "metadata": {},
   "outputs": [],
   "source": [
    "\n",
    "data = {\n",
    "    \"username\": \"AndrewKorzh\",\n",
    "    \"password\": \"123456789\"\n",
    "}\n",
    "\n",
    "token = create_microservice_access_token({\"service\":\"api_gateway\"})\n",
    "\n",
    "# Отправка POST запроса для регистрации\n",
    "response = requests.post(f\"{BASE_URL}/register\", json=data, headers={\"authorization-microservice\": f\"Bearer {token}\"})\n",
    "\n",
    "if response.status_code == 200:\n",
    "    print(\"Пользователь залогинился успешно.\")\n",
    "    token = response.json()[\"access_token\"]\n",
    "    print(\"Токен:\", token)\n",
    "else:\n",
    "    print(\"Ошибка при регистрации:\", response.status_code, response.text)"
   ]
  }
 ],
 "metadata": {
  "kernelspec": {
   "display_name": "Python 3",
   "language": "python",
   "name": "python3"
  },
  "language_info": {
   "codemirror_mode": {
    "name": "ipython",
    "version": 3
   },
   "file_extension": ".py",
   "mimetype": "text/x-python",
   "name": "python",
   "nbconvert_exporter": "python",
   "pygments_lexer": "ipython3",
   "version": "3.13.1"
  }
 },
 "nbformat": 4,
 "nbformat_minor": 2
}
