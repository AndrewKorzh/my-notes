{
 "cells": [
  {
   "cell_type": "code",
   "execution_count": null,
   "metadata": {},
   "outputs": [],
   "source": [
    "import requests\n",
    "import datetime\n",
    "import jwt\n",
    "\n",
    "MICROSERVICE_SECRET_KEY = \"MICROSERVICE_SECRET_KEY\"\n",
    "ALGORITHM = \"HS256\"\n",
    "BASE_URL = \"http://127.0.0.1:8080\"\n",
    "\n"
   ]
  },
  {
   "cell_type": "code",
   "execution_count": null,
   "metadata": {},
   "outputs": [],
   "source": [
    "def create_microservice_access_token(data: dict, expires_delta: datetime.timedelta = None):\n",
    "    to_encode = data.copy()\n",
    "    if expires_delta:\n",
    "        expire = datetime.datetime.now(datetime.UTC) + expires_delta\n",
    "    else:\n",
    "        expire = datetime.datetime.now(datetime.UTC) + datetime.timedelta(minutes=15)\n",
    "    to_encode.update({\"exp\": expire})\n",
    "    encoded_jwt = jwt.encode(to_encode, MICROSERVICE_SECRET_KEY, algorithm=ALGORITHM)\n",
    "    return encoded_jwt\n",
    "\n"
   ]
  },
  {
   "cell_type": "code",
   "execution_count": null,
   "metadata": {},
   "outputs": [],
   "source": [
    "def all_user_notes(username, microservice_headers):\n",
    "    response = requests.get(f\"{BASE_URL}/all_user_notes/{username}\", headers=microservice_headers)\n",
    "    if response.status_code == 200:\n",
    "        print(\"all_user_notes:\\n\", response.json())\n",
    "        \n",
    "    else:\n",
    "        print(\"all_user_notes ERROR:\", response.status_code, response.text)\n",
    "    return response\n",
    "\n",
    "def add_note(username, text, microservice_headers):\n",
    "    response = requests.post(f\"{BASE_URL}/add_note/{username}\",headers=microservice_headers, json={\"text\":text})\n",
    "    if response.status_code == 200:\n",
    "        print(\"add_note:\\n\", response.json())\n",
    "    else:\n",
    "        print(\"add_note ERROR:\", response.status_code, response.text)\n",
    "    return response\n",
    "\n",
    "def delete_notes(username, note_ids, microservice_headers):\n",
    "    response = requests.post(f\"{BASE_URL}/delete_notes/{username}\",headers=microservice_headers, json={\"note_ids\": note_ids})\n",
    "    if response.status_code == 200:\n",
    "        print(\"delete_notes:\\n\", response.json())\n",
    "    else:\n",
    "        print(\"delete_notes ERROR:\", response.status_code, response.text)\n",
    "    return response\n"
   ]
  },
  {
   "cell_type": "code",
   "execution_count": null,
   "metadata": {},
   "outputs": [],
   "source": [
    "token = create_microservice_access_token({\"service\":\"api_gateway\"})\n",
    "username = \"andrew5\"\n",
    "headers={\"authorization-microservice\": f\"Bearer {token}\"}"
   ]
  },
  {
   "cell_type": "code",
   "execution_count": null,
   "metadata": {},
   "outputs": [],
   "source": [
    "all_nodes_resp = all_user_notes(username=username, microservice_headers=headers)\n",
    "ids = [n[\"id\"] for n in all_nodes_resp.json()[\"notes\"]]\n",
    "print(ids)"
   ]
  },
  {
   "cell_type": "code",
   "execution_count": null,
   "metadata": {},
   "outputs": [],
   "source": [
    "add_note(username=username, text=\"my new note\", microservice_headers=headers)"
   ]
  },
  {
   "cell_type": "code",
   "execution_count": null,
   "metadata": {},
   "outputs": [],
   "source": [
    "delete_notes(username=username, note_ids=ids, microservice_headers=headers)"
   ]
  }
 ],
 "metadata": {
  "kernelspec": {
   "display_name": "Python 3",
   "language": "python",
   "name": "python3"
  },
  "language_info": {
   "codemirror_mode": {
    "name": "ipython",
    "version": 3
   },
   "file_extension": ".py",
   "mimetype": "text/x-python",
   "name": "python",
   "nbconvert_exporter": "python",
   "pygments_lexer": "ipython3",
   "version": "3.13.1"
  }
 },
 "nbformat": 4,
 "nbformat_minor": 2
}
