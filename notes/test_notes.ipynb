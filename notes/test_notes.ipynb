{
 "cells": [
  {
   "cell_type": "code",
   "execution_count": 16,
   "metadata": {},
   "outputs": [],
   "source": [
    "import requests\n",
    "import datetime\n",
    "import jwt\n",
    "\n",
    "MICROSERVICE_SECRET_KEY = \"MICROSERVICE_SECRET_KEY\"\n",
    "ALGORITHM = \"HS256\"\n",
    "BASE_URL = \"http://127.0.0.1:8080\""
   ]
  },
  {
   "cell_type": "code",
   "execution_count": 17,
   "metadata": {},
   "outputs": [],
   "source": [
    "def create_microservice_access_token(data: dict, expires_delta: datetime.timedelta = None):\n",
    "    to_encode = data.copy()\n",
    "    if expires_delta:\n",
    "        expire = datetime.datetime.now(datetime.UTC) + expires_delta\n",
    "    else:\n",
    "        expire = datetime.datetime.now(datetime.UTC) + datetime.timedelta(minutes=15)\n",
    "    to_encode.update({\"exp\": expire})\n",
    "    encoded_jwt = jwt.encode(to_encode, MICROSERVICE_SECRET_KEY, algorithm=ALGORITHM)\n",
    "    return encoded_jwt"
   ]
  },
  {
   "cell_type": "code",
   "execution_count": 18,
   "metadata": {},
   "outputs": [
    {
     "name": "stdout",
     "output_type": "stream",
     "text": [
      "response: {'message': 'Это все записи john_do1e111'}\n"
     ]
    }
   ],
   "source": [
    "\n",
    "data = {\n",
    "    \"username\": \"john_do1e111\",\n",
    "    \"password\": \"123456789\"\n",
    "}\n",
    "\n",
    "token = create_microservice_access_token({\"service\":\"api_gateway\"})\n",
    "\n",
    "response = requests.get(f\"{BASE_URL}/all_user_notes/{data[\"username\"]}\",headers={\"authorization-microservice\": f\"Bearer {token}\"})\n",
    "\n",
    "if response.status_code == 200:\n",
    "    print(\"response:\", response.json())\n",
    "else:\n",
    "    print(\"Ошибка:\", response.status_code, response.text)"
   ]
  }
 ],
 "metadata": {
  "kernelspec": {
   "display_name": "Python 3",
   "language": "python",
   "name": "python3"
  },
  "language_info": {
   "codemirror_mode": {
    "name": "ipython",
    "version": 3
   },
   "file_extension": ".py",
   "mimetype": "text/x-python",
   "name": "python",
   "nbconvert_exporter": "python",
   "pygments_lexer": "ipython3",
   "version": "3.13.1"
  }
 },
 "nbformat": 4,
 "nbformat_minor": 2
}
